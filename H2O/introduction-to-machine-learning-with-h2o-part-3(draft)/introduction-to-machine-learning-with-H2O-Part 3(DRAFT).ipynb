{
 "cells": [
  {
   "cell_type": "markdown",
   "metadata": {},
   "source": [
    "# AutoML Tutorial - DRAFT"
   ]
  },
  {
   "cell_type": "markdown",
   "metadata": {},
   "source": [
    "<div class=\"alert alert-block alert-info\"><span style=\"color:black\">\n",
    "In this tutorial, we will use a subset of the loan-level data from Fannie Mae and Freddie Mac. Firstly, we will solve a binary classification problem (predicting if a loan is delinquent or not). Then, we will explore a regression use-case (predicting interest rates on the same dataset).\n",
    "</span></div>"
   ]
  },
  {
   "cell_type": "markdown",
   "metadata": {},
   "source": [
    "<div class=\"alert alert-block alert-danger\"><span style=\"color:black\">\n",
    "Please note that this work in progress. The complete tutorial will be available soon.\n",
    "    </span></div>"
   ]
  },
  {
   "cell_type": "markdown",
   "metadata": {},
   "source": [
    "## Initial Setup"
   ]
  },
  {
   "cell_type": "code",
   "execution_count": 1,
   "metadata": {},
   "outputs": [],
   "source": [
    "#Import H2O and other libaries that will be used in this tutorial \n",
    "import h2o\n",
    "import matplotlib as plt\n",
    "import pandas as pd\n",
    "%matplotlib inline\n",
    "from h2o.automl import H2OAutoML"
   ]
  },
  {
   "cell_type": "code",
   "execution_count": 2,
   "metadata": {},
   "outputs": [
    {
     "name": "stdout",
     "output_type": "stream",
     "text": [
      "Checking whether there is an H2O instance running at http://localhost:54321 . connected.\n"
     ]
    },
    {
     "data": {
      "text/html": [
       "<div style=\"overflow:auto\"><table style=\"width:50%\"><tr><td>H2O cluster uptime:</td>\n",
       "<td>2 hours 45 mins</td></tr>\n",
       "<tr><td>H2O cluster timezone:</td>\n",
       "<td>America/Los_Angeles</td></tr>\n",
       "<tr><td>H2O data parsing timezone:</td>\n",
       "<td>UTC</td></tr>\n",
       "<tr><td>H2O cluster version:</td>\n",
       "<td>3.26.0.3</td></tr>\n",
       "<tr><td>H2O cluster version age:</td>\n",
       "<td>2 months and 5 days </td></tr>\n",
       "<tr><td>H2O cluster name:</td>\n",
       "<td>H2O_from_python_falvarenga_urcsol</td></tr>\n",
       "<tr><td>H2O cluster total nodes:</td>\n",
       "<td>1</td></tr>\n",
       "<tr><td>H2O cluster free memory:</td>\n",
       "<td>3.957 Gb</td></tr>\n",
       "<tr><td>H2O cluster total cores:</td>\n",
       "<td>8</td></tr>\n",
       "<tr><td>H2O cluster allowed cores:</td>\n",
       "<td>8</td></tr>\n",
       "<tr><td>H2O cluster status:</td>\n",
       "<td>locked, healthy</td></tr>\n",
       "<tr><td>H2O connection url:</td>\n",
       "<td>http://localhost:54321</td></tr>\n",
       "<tr><td>H2O connection proxy:</td>\n",
       "<td>None</td></tr>\n",
       "<tr><td>H2O internal security:</td>\n",
       "<td>False</td></tr>\n",
       "<tr><td>H2O API Extensions:</td>\n",
       "<td>Amazon S3, XGBoost, Algos, AutoML, Core V3, Core V4</td></tr>\n",
       "<tr><td>Python version:</td>\n",
       "<td>3.6.8 final</td></tr></table></div>"
      ],
      "text/plain": [
       "--------------------------  ---------------------------------------------------\n",
       "H2O cluster uptime:         2 hours 45 mins\n",
       "H2O cluster timezone:       America/Los_Angeles\n",
       "H2O data parsing timezone:  UTC\n",
       "H2O cluster version:        3.26.0.3\n",
       "H2O cluster version age:    2 months and 5 days\n",
       "H2O cluster name:           H2O_from_python_falvarenga_urcsol\n",
       "H2O cluster total nodes:    1\n",
       "H2O cluster free memory:    3.957 Gb\n",
       "H2O cluster total cores:    8\n",
       "H2O cluster allowed cores:  8\n",
       "H2O cluster status:         locked, healthy\n",
       "H2O connection url:         http://localhost:54321\n",
       "H2O connection proxy:\n",
       "H2O internal security:      False\n",
       "H2O API Extensions:         Amazon S3, XGBoost, Algos, AutoML, Core V3, Core V4\n",
       "Python version:             3.6.8 final\n",
       "--------------------------  ---------------------------------------------------"
      ]
     },
     "metadata": {},
     "output_type": "display_data"
    }
   ],
   "source": [
    "h2o.init(max_mem_size=\"4G\")"
   ]
  },
  {
   "cell_type": "markdown",
   "metadata": {},
   "source": [
    "### Import the dataset and explore the output responses"
   ]
  },
  {
   "cell_type": "code",
   "execution_count": 3,
   "metadata": {},
   "outputs": [
    {
     "name": "stdout",
     "output_type": "stream",
     "text": [
      "Parse progress: |█████████████████████████████████████████████████████████| 100%\n"
     ]
    }
   ],
   "source": [
    "#Import the dataset \n",
    "loan_level = h2o.import_file(\"https://s3.amazonaws.com/data.h2o.ai/H2O-3-Tutorials/loan_level_50k.csv\")"
   ]
  },
  {
   "cell_type": "code",
   "execution_count": 4,
   "metadata": {},
   "outputs": [
    {
     "data": {
      "text/html": [
       "<table>\n",
       "<thead>\n",
       "<tr><th style=\"text-align: right;\">  CREDIT_SCORE</th><th style=\"text-align: right;\">  FIRST_PAYMENT_DATE</th><th>FIRST_TIME_HOMEBUYER_FLAG  </th><th style=\"text-align: right;\">  MATURITY_DATE</th><th style=\"text-align: right;\">  METROPOLITAN_STATISTICAL_AREA</th><th style=\"text-align: right;\">  MORTGAGE_INSURANCE_PERCENTAGE</th><th style=\"text-align: right;\">  NUMBER_OF_UNITS</th><th>OCCUPANCY_STATUS  </th><th style=\"text-align: right;\">  ORIGINAL_COMBINED_LOAN_TO_VALUE</th><th style=\"text-align: right;\">  ORIGINAL_DEBT_TO_INCOME_RATIO</th><th style=\"text-align: right;\">  ORIGINAL_UPB</th><th style=\"text-align: right;\">  ORIGINAL_LOAN_TO_VALUE</th><th style=\"text-align: right;\">  ORIGINAL_INTEREST_RATE</th><th>CHANNEL  </th><th>PREPAYMENT_PENALTY_MORTGAGE_FLAG  </th><th>PRODUCT_TYPE  </th><th>PROPERTY_STATE  </th><th>PROPERTY_TYPE  </th><th style=\"text-align: right;\">  POSTAL_CODE</th><th>LOAN_SEQUENCE_NUMBER  </th><th>LOAN_PURPOSE  </th><th style=\"text-align: right;\">  ORIGINAL_LOAN_TERM</th><th style=\"text-align: right;\">  NUMBER_OF_BORROWERS</th><th>SELLER_NAME         </th><th>SERVICER_NAME       </th><th>PREPAID  </th><th>DELINQUENT  </th></tr>\n",
       "</thead>\n",
       "<tbody>\n",
       "<tr><td style=\"text-align: right;\">           707</td><td style=\"text-align: right;\">              200211</td><td>N                          </td><td style=\"text-align: right;\">         202903</td><td style=\"text-align: right;\">                          33340</td><td style=\"text-align: right;\">                              0</td><td style=\"text-align: right;\">                1</td><td>O                 </td><td style=\"text-align: right;\">                               60</td><td style=\"text-align: right;\">                             57</td><td style=\"text-align: right;\">        136000</td><td style=\"text-align: right;\">                      60</td><td style=\"text-align: right;\">                   6.25 </td><td>R        </td><td>N                                 </td><td>FRM           </td><td>WI              </td><td>SF             </td><td style=\"text-align: right;\">        53000</td><td>F199Q1000018          </td><td>C             </td><td style=\"text-align: right;\">                 317</td><td style=\"text-align: right;\">                    2</td><td>Other sellers       </td><td>Other servicers     </td><td>TRUE     </td><td>FALSE       </td></tr>\n",
       "<tr><td style=\"text-align: right;\">           691</td><td style=\"text-align: right;\">              200302</td><td>N                          </td><td style=\"text-align: right;\">         202901</td><td style=\"text-align: right;\">                          15940</td><td style=\"text-align: right;\">                              0</td><td style=\"text-align: right;\">                1</td><td>O                 </td><td style=\"text-align: right;\">                               65</td><td style=\"text-align: right;\">                             25</td><td style=\"text-align: right;\">        130000</td><td style=\"text-align: right;\">                      65</td><td style=\"text-align: right;\">                   5.875</td><td>R        </td><td>N                                 </td><td>FRM           </td><td>OH              </td><td>SF             </td><td style=\"text-align: right;\">        44700</td><td>F199Q1000023          </td><td>P             </td><td style=\"text-align: right;\">                 312</td><td style=\"text-align: right;\">                    2</td><td>Other sellers       </td><td>Other servicers     </td><td>TRUE     </td><td>FALSE       </td></tr>\n",
       "<tr><td style=\"text-align: right;\">           730</td><td style=\"text-align: right;\">              199903</td><td>N                          </td><td style=\"text-align: right;\">         202902</td><td style=\"text-align: right;\">                          16620</td><td style=\"text-align: right;\">                             30</td><td style=\"text-align: right;\">                1</td><td>O                 </td><td style=\"text-align: right;\">                               94</td><td style=\"text-align: right;\">                             29</td><td style=\"text-align: right;\">        138000</td><td style=\"text-align: right;\">                      94</td><td style=\"text-align: right;\">                   7    </td><td>T        </td><td>N                                 </td><td>FRM           </td><td>WV              </td><td>SF             </td><td style=\"text-align: right;\">        25300</td><td>F199Q1000037          </td><td>P             </td><td style=\"text-align: right;\">                 360</td><td style=\"text-align: right;\">                    2</td><td>Other sellers       </td><td>Other servicers     </td><td>TRUE     </td><td>FALSE       </td></tr>\n",
       "<tr><td style=\"text-align: right;\">           638</td><td style=\"text-align: right;\">              199905</td><td>N                          </td><td style=\"text-align: right;\">         202904</td><td style=\"text-align: right;\">                          42020</td><td style=\"text-align: right;\">                            nan</td><td style=\"text-align: right;\">                1</td><td>O                 </td><td style=\"text-align: right;\">                               67</td><td style=\"text-align: right;\">                             28</td><td style=\"text-align: right;\">        160000</td><td style=\"text-align: right;\">                      67</td><td style=\"text-align: right;\">                   7.375</td><td>T        </td><td>N                                 </td><td>FRM           </td><td>CA              </td><td>SF             </td><td style=\"text-align: right;\">        93400</td><td>F199Q1000067          </td><td>N             </td><td style=\"text-align: right;\">                 360</td><td style=\"text-align: right;\">                    2</td><td>CROSSLAND MORTGAGE C</td><td>CHASEMTGECO         </td><td>TRUE     </td><td>FALSE       </td></tr>\n",
       "<tr><td style=\"text-align: right;\">           577</td><td style=\"text-align: right;\">              199903</td><td>N                          </td><td style=\"text-align: right;\">         202902</td><td style=\"text-align: right;\">                          12580</td><td style=\"text-align: right;\">                             12</td><td style=\"text-align: right;\">                1</td><td>O                 </td><td style=\"text-align: right;\">                               80</td><td style=\"text-align: right;\">                             53</td><td style=\"text-align: right;\">         43000</td><td style=\"text-align: right;\">                      80</td><td style=\"text-align: right;\">                   7.25 </td><td>T        </td><td>N                                 </td><td>FRM           </td><td>MD              </td><td>SF             </td><td style=\"text-align: right;\">        21200</td><td>F199Q1000086          </td><td>N             </td><td style=\"text-align: right;\">                 360</td><td style=\"text-align: right;\">                    1</td><td>ACCUBANC MORTGAGE CO</td><td>GMACMTGECORP        </td><td>FALSE    </td><td>TRUE        </td></tr>\n",
       "<tr><td style=\"text-align: right;\">           693</td><td style=\"text-align: right;\">              199905</td><td>N                          </td><td style=\"text-align: right;\">         202904</td><td style=\"text-align: right;\">                            nan</td><td style=\"text-align: right;\">                            nan</td><td style=\"text-align: right;\">                1</td><td>O                 </td><td style=\"text-align: right;\">                               80</td><td style=\"text-align: right;\">                             43</td><td style=\"text-align: right;\">         93000</td><td style=\"text-align: right;\">                      80</td><td style=\"text-align: right;\">                   7.125</td><td>R        </td><td>N                                 </td><td>FRM           </td><td>SD              </td><td>SF             </td><td style=\"text-align: right;\">        57500</td><td>F199Q1000104          </td><td>P             </td><td style=\"text-align: right;\">                 360</td><td style=\"text-align: right;\">                    1</td><td>NORWEST MORTGAGE, IN</td><td>WELLSFARGOHOMEMORTGA</td><td>TRUE     </td><td>FALSE       </td></tr>\n",
       "<tr><td style=\"text-align: right;\">           739</td><td style=\"text-align: right;\">              199905</td><td>                           </td><td style=\"text-align: right;\">         202904</td><td style=\"text-align: right;\">                          16700</td><td style=\"text-align: right;\">                            nan</td><td style=\"text-align: right;\">                1</td><td>S                 </td><td style=\"text-align: right;\">                               80</td><td style=\"text-align: right;\">                             25</td><td style=\"text-align: right;\">        200000</td><td style=\"text-align: right;\">                      80</td><td style=\"text-align: right;\">                   6.875</td><td>R        </td><td>N                                 </td><td>FRM           </td><td>SC              </td><td>CO             </td><td style=\"text-align: right;\">        29400</td><td>F199Q1000107          </td><td>P             </td><td style=\"text-align: right;\">                 360</td><td style=\"text-align: right;\">                    2</td><td>NORWEST MORTGAGE, IN</td><td>WELLSFARGOHOMEMORTGA</td><td>TRUE     </td><td>FALSE       </td></tr>\n",
       "<tr><td style=\"text-align: right;\">           695</td><td style=\"text-align: right;\">              199905</td><td>                           </td><td style=\"text-align: right;\">         202904</td><td style=\"text-align: right;\">                          42044</td><td style=\"text-align: right;\">                              0</td><td style=\"text-align: right;\">                1</td><td>O                 </td><td style=\"text-align: right;\">                               40</td><td style=\"text-align: right;\">                              6</td><td style=\"text-align: right;\">        135000</td><td style=\"text-align: right;\">                      40</td><td style=\"text-align: right;\">                   6.875</td><td>R        </td><td>N                                 </td><td>FRM           </td><td>CA              </td><td>SF             </td><td style=\"text-align: right;\">        92800</td><td>F199Q1000121          </td><td>C             </td><td style=\"text-align: right;\">                 360</td><td style=\"text-align: right;\">                    2</td><td>NATIONSBANC MORTGAGE</td><td>BAMORTGAGE,LLC      </td><td>TRUE     </td><td>FALSE       </td></tr>\n",
       "<tr><td style=\"text-align: right;\">           753</td><td style=\"text-align: right;\">              199905</td><td>N                          </td><td style=\"text-align: right;\">         202904</td><td style=\"text-align: right;\">                          41740</td><td style=\"text-align: right;\">                              0</td><td style=\"text-align: right;\">                1</td><td>O                 </td><td style=\"text-align: right;\">                               80</td><td style=\"text-align: right;\">                             17</td><td style=\"text-align: right;\">         59000</td><td style=\"text-align: right;\">                      80</td><td style=\"text-align: right;\">                   7    </td><td>R        </td><td>N                                 </td><td>FRM           </td><td>CA              </td><td>CO             </td><td style=\"text-align: right;\">        92000</td><td>F199Q1000122          </td><td>P             </td><td style=\"text-align: right;\">                 360</td><td style=\"text-align: right;\">                    1</td><td>NATIONSBANC MORTGAGE</td><td>BAMORTGAGE,LLC      </td><td>TRUE     </td><td>FALSE       </td></tr>\n",
       "<tr><td style=\"text-align: right;\">           712</td><td style=\"text-align: right;\">              199905</td><td>                           </td><td style=\"text-align: right;\">         202904</td><td style=\"text-align: right;\">                            nan</td><td style=\"text-align: right;\">                            nan</td><td style=\"text-align: right;\">                1</td><td>O                 </td><td style=\"text-align: right;\">                               80</td><td style=\"text-align: right;\">                             28</td><td style=\"text-align: right;\">        126000</td><td style=\"text-align: right;\">                      80</td><td style=\"text-align: right;\">                   7.125</td><td>R        </td><td>N                                 </td><td>FRM           </td><td>MI              </td><td>SF             </td><td style=\"text-align: right;\">        48800</td><td>F199Q1000123          </td><td>N             </td><td style=\"text-align: right;\">                 360</td><td style=\"text-align: right;\">                    2</td><td>Other sellers       </td><td>Other servicers     </td><td>TRUE     </td><td>FALSE       </td></tr>\n",
       "</tbody>\n",
       "</table>"
      ]
     },
     "metadata": {},
     "output_type": "display_data"
    },
    {
     "data": {
      "text/plain": []
     },
     "execution_count": 4,
     "metadata": {},
     "output_type": "execute_result"
    }
   ],
   "source": [
    "loan_level.head()"
   ]
  },
  {
   "cell_type": "code",
   "execution_count": 5,
   "metadata": {},
   "outputs": [
    {
     "data": {
      "text/html": [
       "<table>\n",
       "<thead>\n",
       "<tr><th>DELINQUENT  </th><th style=\"text-align: right;\">  Count</th></tr>\n",
       "</thead>\n",
       "<tbody>\n",
       "<tr><td>FALSE       </td><td style=\"text-align: right;\">  48118</td></tr>\n",
       "<tr><td>TRUE        </td><td style=\"text-align: right;\">   1812</td></tr>\n",
       "</tbody>\n",
       "</table>"
      ]
     },
     "metadata": {},
     "output_type": "display_data"
    },
    {
     "data": {
      "text/plain": []
     },
     "execution_count": 5,
     "metadata": {},
     "output_type": "execute_result"
    }
   ],
   "source": [
    "# Check the distribution of the response column for the Classification problem\n",
    "loan_level[\"DELINQUENT\"].table()"
   ]
  },
  {
   "cell_type": "code",
   "execution_count": 6,
   "metadata": {},
   "outputs": [
    {
     "data": {
      "image/png": "[encoded data removed]",
      "text/plain": [
       "<Figure size 432x288 with 1 Axes>"
      ]
     },
     "metadata": {
      "needs_background": "light"
     },
     "output_type": "display_data"
    }
   ],
   "source": [
    "# Check the distribution of the response column for the Regression problem\n",
    "loan_level[\"ORIGINAL_INTEREST_RATE\"].hist()"
   ]
  },
  {
   "cell_type": "code",
   "execution_count": 7,
   "metadata": {},
   "outputs": [
    {
     "name": "stdout",
     "output_type": "stream",
     "text": [
      "train:39984 test:9946\n"
     ]
    }
   ],
   "source": [
    "# Split the dataset into training and testing, and print their distribution\n",
    "train, test = loan_level.split_frame([0.8], seed=42)\n",
    "print(\"train:%d test:%d\" % (train.nrows, test.nrows))"
   ]
  },
  {
   "cell_type": "code",
   "execution_count": 8,
   "metadata": {},
   "outputs": [],
   "source": [
    "# Choose the response column, and the predictors. \n",
    "\n",
    "y = \"DELINQUENT\"\n",
    "ignore = [\"PREPAID\", \"PREPAYMENT_PENALTY_MORTGAGE_FLAG\", \"PRODUCT_TYPE\"] \n",
    "x = list(set(train.names) - set(ignore))"
   ]
  },
  {
   "cell_type": "markdown",
   "metadata": {},
   "source": [
    "<div class=\"alert alert-block alert-success\"><span style=\"color:black\">\n",
    "We are ignoring \"PREPAID\" and \"PREPAYMENT_PENALTY_MORTGAGE_FLAG\" because they are clear indicators that a loan has been fully paid or not. And \"PRODUCT TYPE\" is a constant column, so it will not help our model\n",
    "    </span></div>"
   ]
  },
  {
   "cell_type": "markdown",
   "metadata": {},
   "source": [
    "## Run AutoML for our Classification use case "
   ]
  },
  {
   "cell_type": "markdown",
   "metadata": {},
   "source": [
    "<div class=\"alert alert-block alert-success\"><span style=\"color:black\">\n",
    "     We will run AutoML for 5 minutes(300 seconds). You can change this by increasing or decreasing \"max_runtime_secs\"\n",
    "</span></div>\n"
   ]
  },
  {
   "cell_type": "code",
   "execution_count": 10,
   "metadata": {},
   "outputs": [
    {
     "name": "stdout",
     "output_type": "stream",
     "text": [
      "AutoML progress: |████████████████████████████████████████████████████████| 100%\n",
      "CPU times: user 1.45 s, sys: 255 ms, total: 1.71 s\n",
      "Wall time: 5min 7s\n"
     ]
    }
   ],
   "source": [
    "aml = H2OAutoML(max_runtime_secs=300, seed=42, project_name='classification')\n",
    "%time aml.train(x=x, y=y, training_frame=train)"
   ]
  },
  {
   "cell_type": "code",
   "execution_count": 12,
   "metadata": {},
   "outputs": [
    {
     "data": {
      "text/html": [
       "<table>\n",
       "<thead>\n",
       "<tr><th>model_id                                           </th><th style=\"text-align: right;\">     auc</th><th style=\"text-align: right;\">  logloss</th><th style=\"text-align: right;\">  mean_per_class_error</th><th style=\"text-align: right;\">    rmse</th><th style=\"text-align: right;\">      mse</th></tr>\n",
       "</thead>\n",
       "<tbody>\n",
       "<tr><td>XGBoost_3_AutoML_20191029_170451                   </td><td style=\"text-align: right;\">0.855035</td><td style=\"text-align: right;\"> 0.119394</td><td style=\"text-align: right;\">              0.326631</td><td style=\"text-align: right;\">0.174114</td><td style=\"text-align: right;\">0.0303157</td></tr>\n",
       "<tr><td>StackedEnsemble_AllModels_AutoML_20191029_170451   </td><td style=\"text-align: right;\">0.853866</td><td style=\"text-align: right;\"> 0.127497</td><td style=\"text-align: right;\">              0.324102</td><td style=\"text-align: right;\">0.177296</td><td style=\"text-align: right;\">0.0314339</td></tr>\n",
       "<tr><td>StackedEnsemble_BestOfFamily_AutoML_20191029_170451</td><td style=\"text-align: right;\">0.853586</td><td style=\"text-align: right;\"> 0.127474</td><td style=\"text-align: right;\">              0.32373 </td><td style=\"text-align: right;\">0.177277</td><td style=\"text-align: right;\">0.031427 </td></tr>\n",
       "<tr><td>XGBoost_2_AutoML_20191029_170451                   </td><td style=\"text-align: right;\">0.852738</td><td style=\"text-align: right;\"> 0.120314</td><td style=\"text-align: right;\">              0.327282</td><td style=\"text-align: right;\">0.174782</td><td style=\"text-align: right;\">0.0305487</td></tr>\n",
       "<tr><td>XGBoost_1_AutoML_20191029_170451                   </td><td style=\"text-align: right;\">0.851199</td><td style=\"text-align: right;\"> 0.120396</td><td style=\"text-align: right;\">              0.349517</td><td style=\"text-align: right;\">0.174607</td><td style=\"text-align: right;\">0.0304876</td></tr>\n",
       "<tr><td>GLM_grid_1_AutoML_20191029_170451_model_1          </td><td style=\"text-align: right;\">0.845777</td><td style=\"text-align: right;\"> 0.124852</td><td style=\"text-align: right;\">              0.311109</td><td style=\"text-align: right;\">0.177708</td><td style=\"text-align: right;\">0.03158  </td></tr>\n",
       "<tr><td>GBM_1_AutoML_20191029_170451                       </td><td style=\"text-align: right;\">0.844156</td><td style=\"text-align: right;\"> 0.126566</td><td style=\"text-align: right;\">              0.327512</td><td style=\"text-align: right;\">0.179137</td><td style=\"text-align: right;\">0.0320902</td></tr>\n",
       "<tr><td>GBM_2_AutoML_20191029_170451                       </td><td style=\"text-align: right;\">0.837406</td><td style=\"text-align: right;\"> 0.126455</td><td style=\"text-align: right;\">              0.319861</td><td style=\"text-align: right;\">0.177896</td><td style=\"text-align: right;\">0.0316471</td></tr>\n",
       "<tr><td>DRF_1_AutoML_20191029_170451                       </td><td style=\"text-align: right;\">0.815392</td><td style=\"text-align: right;\"> 0.182803</td><td style=\"text-align: right;\">              0.338045</td><td style=\"text-align: right;\">0.176634</td><td style=\"text-align: right;\">0.0311995</td></tr>\n",
       "</tbody>\n",
       "</table>"
      ]
     },
     "metadata": {},
     "output_type": "display_data"
    },
    {
     "data": {
      "text/plain": []
     },
     "execution_count": 12,
     "metadata": {},
     "output_type": "execute_result"
    }
   ],
   "source": [
    "# Print the leaderboard, sorted by best AUC(default)\n",
    "aml.leaderboard"
   ]
  },
  {
   "cell_type": "code",
   "execution_count": 13,
   "metadata": {},
   "outputs": [
    {
     "data": {
      "image/png": "[encoded data removed]",
      "text/plain": [
       "<Figure size 432x288 with 1 Axes>"
      ]
     },
     "metadata": {
      "needs_background": "light"
     },
     "output_type": "display_data"
    },
    {
     "name": "stdout",
     "output_type": "stream",
     "text": [
      "\n",
      "ModelMetricsBinomial: xgboost\n",
      "** Reported on test data. **\n",
      "\n",
      "MSE: 0.03438290506270764\n",
      "RMSE: 0.18542627932067138\n",
      "LogLoss: 0.13746220950407384\n",
      "Mean Per-Class Error: 0.24741792561982368\n",
      "AUC: 0.819788238755568\n",
      "pr_auc: 0.2151676060611577\n",
      "Gini: 0.6395764775111361\n",
      "\n",
      "Confusion Matrix (Act/Pred) for max f1 @ threshold = 0.12654804777015338: "
     ]
    },
    {
     "data": {
      "text/html": [
       "<div>\n",
       "<style scoped>\n",
       "    .dataframe tbody tr th:only-of-type {\n",
       "        vertical-align: middle;\n",
       "    }\n",
       "\n",
       "    .dataframe tbody tr th {\n",
       "        vertical-align: top;\n",
       "    }\n",
       "\n",
       "    .dataframe thead th {\n",
       "        text-align: right;\n",
       "    }\n",
       "</style>\n",
       "<table border=\"1\" class=\"dataframe\">\n",
       "  <thead>\n",
       "    <tr style=\"text-align: right;\">\n",
       "      <th></th>\n",
       "      <th></th>\n",
       "      <th>FALSE</th>\n",
       "      <th>TRUE</th>\n",
       "      <th>Error</th>\n",
       "      <th>Rate</th>\n",
       "    </tr>\n",
       "  </thead>\n",
       "  <tbody>\n",
       "    <tr>\n",
       "      <th>0</th>\n",
       "      <td>FALSE</td>\n",
       "      <td>9068.0</td>\n",
       "      <td>483.0</td>\n",
       "      <td>0.0506</td>\n",
       "      <td>(483.0/9551.0)</td>\n",
       "    </tr>\n",
       "    <tr>\n",
       "      <th>1</th>\n",
       "      <td>TRUE</td>\n",
       "      <td>245.0</td>\n",
       "      <td>150.0</td>\n",
       "      <td>0.6203</td>\n",
       "      <td>(245.0/395.0)</td>\n",
       "    </tr>\n",
       "    <tr>\n",
       "      <th>2</th>\n",
       "      <td>Total</td>\n",
       "      <td>9313.0</td>\n",
       "      <td>633.0</td>\n",
       "      <td>0.0732</td>\n",
       "      <td>(728.0/9946.0)</td>\n",
       "    </tr>\n",
       "  </tbody>\n",
       "</table>\n",
       "</div>"
      ],
      "text/plain": [
       "           FALSE   TRUE   Error             Rate\n",
       "0  FALSE  9068.0  483.0  0.0506   (483.0/9551.0)\n",
       "1   TRUE   245.0  150.0  0.6203    (245.0/395.0)\n",
       "2  Total  9313.0  633.0  0.0732   (728.0/9946.0)"
      ]
     },
     "metadata": {},
     "output_type": "display_data"
    },
    {
     "name": "stdout",
     "output_type": "stream",
     "text": [
      "\n",
      "Maximum Metrics: Maximum metrics at their respective thresholds\n"
     ]
    },
    {
     "data": {
      "text/html": [
       "<div>\n",
       "<style scoped>\n",
       "    .dataframe tbody tr th:only-of-type {\n",
       "        vertical-align: middle;\n",
       "    }\n",
       "\n",
       "    .dataframe tbody tr th {\n",
       "        vertical-align: top;\n",
       "    }\n",
       "\n",
       "    .dataframe thead th {\n",
       "        text-align: right;\n",
       "    }\n",
       "</style>\n",
       "<table border=\"1\" class=\"dataframe\">\n",
       "  <thead>\n",
       "    <tr style=\"text-align: right;\">\n",
       "      <th></th>\n",
       "      <th>metric</th>\n",
       "      <th>threshold</th>\n",
       "      <th>value</th>\n",
       "      <th>idx</th>\n",
       "    </tr>\n",
       "  </thead>\n",
       "  <tbody>\n",
       "    <tr>\n",
       "      <th>0</th>\n",
       "      <td>max f1</td>\n",
       "      <td>0.126548</td>\n",
       "      <td>0.291829</td>\n",
       "      <td>179.0</td>\n",
       "    </tr>\n",
       "    <tr>\n",
       "      <th>1</th>\n",
       "      <td>max f2</td>\n",
       "      <td>0.066410</td>\n",
       "      <td>0.366216</td>\n",
       "      <td>246.0</td>\n",
       "    </tr>\n",
       "    <tr>\n",
       "      <th>2</th>\n",
       "      <td>max f0point5</td>\n",
       "      <td>0.274999</td>\n",
       "      <td>0.300493</td>\n",
       "      <td>83.0</td>\n",
       "    </tr>\n",
       "    <tr>\n",
       "      <th>3</th>\n",
       "      <td>max accuracy</td>\n",
       "      <td>0.465876</td>\n",
       "      <td>0.960989</td>\n",
       "      <td>25.0</td>\n",
       "    </tr>\n",
       "    <tr>\n",
       "      <th>4</th>\n",
       "      <td>max precision</td>\n",
       "      <td>0.619336</td>\n",
       "      <td>0.666667</td>\n",
       "      <td>7.0</td>\n",
       "    </tr>\n",
       "    <tr>\n",
       "      <th>5</th>\n",
       "      <td>max recall</td>\n",
       "      <td>0.001889</td>\n",
       "      <td>1.000000</td>\n",
       "      <td>396.0</td>\n",
       "    </tr>\n",
       "    <tr>\n",
       "      <th>6</th>\n",
       "      <td>max specificity</td>\n",
       "      <td>0.819496</td>\n",
       "      <td>0.999895</td>\n",
       "      <td>0.0</td>\n",
       "    </tr>\n",
       "    <tr>\n",
       "      <th>7</th>\n",
       "      <td>max absolute_mcc</td>\n",
       "      <td>0.126548</td>\n",
       "      <td>0.263333</td>\n",
       "      <td>179.0</td>\n",
       "    </tr>\n",
       "    <tr>\n",
       "      <th>8</th>\n",
       "      <td>max min_per_class_accuracy</td>\n",
       "      <td>0.034738</td>\n",
       "      <td>0.746937</td>\n",
       "      <td>299.0</td>\n",
       "    </tr>\n",
       "    <tr>\n",
       "      <th>9</th>\n",
       "      <td>max mean_per_class_accuracy</td>\n",
       "      <td>0.032526</td>\n",
       "      <td>0.752582</td>\n",
       "      <td>304.0</td>\n",
       "    </tr>\n",
       "  </tbody>\n",
       "</table>\n",
       "</div>"
      ],
      "text/plain": [
       "                        metric  threshold     value    idx\n",
       "0                       max f1   0.126548  0.291829  179.0\n",
       "1                       max f2   0.066410  0.366216  246.0\n",
       "2                 max f0point5   0.274999  0.300493   83.0\n",
       "3                 max accuracy   0.465876  0.960989   25.0\n",
       "4                max precision   0.619336  0.666667    7.0\n",
       "5                   max recall   0.001889  1.000000  396.0\n",
       "6              max specificity   0.819496  0.999895    0.0\n",
       "7             max absolute_mcc   0.126548  0.263333  179.0\n",
       "8   max min_per_class_accuracy   0.034738  0.746937  299.0\n",
       "9  max mean_per_class_accuracy   0.032526  0.752582  304.0"
      ]
     },
     "metadata": {},
     "output_type": "display_data"
    },
    {
     "name": "stdout",
     "output_type": "stream",
     "text": [
      "\n",
      "Gains/Lift Table: Avg response rate:  3.97 %, avg score:  3.61 %\n"
     ]
    },
    {
     "data": {
      "text/html": [
       "<div>\n",
       "<style scoped>\n",
       "    .dataframe tbody tr th:only-of-type {\n",
       "        vertical-align: middle;\n",
       "    }\n",
       "\n",
       "    .dataframe tbody tr th {\n",
       "        vertical-align: top;\n",
       "    }\n",
       "\n",
       "    .dataframe thead th {\n",
       "        text-align: right;\n",
       "    }\n",
       "</style>\n",
       "<table border=\"1\" class=\"dataframe\">\n",
       "  <thead>\n",
       "    <tr style=\"text-align: right;\">\n",
       "      <th></th>\n",
       "      <th></th>\n",
       "      <th>group</th>\n",
       "      <th>cumulative_data_fraction</th>\n",
       "      <th>lower_threshold</th>\n",
       "      <th>lift</th>\n",
       "      <th>cumulative_lift</th>\n",
       "      <th>response_rate</th>\n",
       "      <th>score</th>\n",
       "      <th>cumulative_response_rate</th>\n",
       "      <th>cumulative_score</th>\n",
       "      <th>capture_rate</th>\n",
       "      <th>cumulative_capture_rate</th>\n",
       "      <th>gain</th>\n",
       "      <th>cumulative_gain</th>\n",
       "    </tr>\n",
       "  </thead>\n",
       "  <tbody>\n",
       "    <tr>\n",
       "      <th>0</th>\n",
       "      <td></td>\n",
       "      <td>1</td>\n",
       "      <td>0.010054</td>\n",
       "      <td>0.343128</td>\n",
       "      <td>10.827291</td>\n",
       "      <td>10.827291</td>\n",
       "      <td>0.430000</td>\n",
       "      <td>0.447115</td>\n",
       "      <td>0.430000</td>\n",
       "      <td>0.447115</td>\n",
       "      <td>0.108861</td>\n",
       "      <td>0.108861</td>\n",
       "      <td>982.729114</td>\n",
       "      <td>982.729114</td>\n",
       "    </tr>\n",
       "    <tr>\n",
       "      <th>1</th>\n",
       "      <td></td>\n",
       "      <td>2</td>\n",
       "      <td>0.020008</td>\n",
       "      <td>0.252206</td>\n",
       "      <td>6.358522</td>\n",
       "      <td>8.604135</td>\n",
       "      <td>0.252525</td>\n",
       "      <td>0.284422</td>\n",
       "      <td>0.341709</td>\n",
       "      <td>0.366177</td>\n",
       "      <td>0.063291</td>\n",
       "      <td>0.172152</td>\n",
       "      <td>535.852193</td>\n",
       "      <td>760.413460</td>\n",
       "    </tr>\n",
       "    <tr>\n",
       "      <th>2</th>\n",
       "      <td></td>\n",
       "      <td>3</td>\n",
       "      <td>0.030062</td>\n",
       "      <td>0.203367</td>\n",
       "      <td>6.294937</td>\n",
       "      <td>7.831828</td>\n",
       "      <td>0.250000</td>\n",
       "      <td>0.223842</td>\n",
       "      <td>0.311037</td>\n",
       "      <td>0.318573</td>\n",
       "      <td>0.063291</td>\n",
       "      <td>0.235443</td>\n",
       "      <td>529.493671</td>\n",
       "      <td>683.182761</td>\n",
       "    </tr>\n",
       "    <tr>\n",
       "      <th>3</th>\n",
       "      <td></td>\n",
       "      <td>4</td>\n",
       "      <td>0.040016</td>\n",
       "      <td>0.174056</td>\n",
       "      <td>4.069454</td>\n",
       "      <td>6.895961</td>\n",
       "      <td>0.161616</td>\n",
       "      <td>0.188056</td>\n",
       "      <td>0.273869</td>\n",
       "      <td>0.286108</td>\n",
       "      <td>0.040506</td>\n",
       "      <td>0.275949</td>\n",
       "      <td>306.945403</td>\n",
       "      <td>589.596082</td>\n",
       "    </tr>\n",
       "    <tr>\n",
       "      <th>4</th>\n",
       "      <td></td>\n",
       "      <td>5</td>\n",
       "      <td>0.050070</td>\n",
       "      <td>0.148770</td>\n",
       "      <td>3.776962</td>\n",
       "      <td>6.269656</td>\n",
       "      <td>0.150000</td>\n",
       "      <td>0.160299</td>\n",
       "      <td>0.248996</td>\n",
       "      <td>0.260845</td>\n",
       "      <td>0.037975</td>\n",
       "      <td>0.313924</td>\n",
       "      <td>277.696203</td>\n",
       "      <td>526.965584</td>\n",
       "    </tr>\n",
       "    <tr>\n",
       "      <th>5</th>\n",
       "      <td></td>\n",
       "      <td>6</td>\n",
       "      <td>0.100040</td>\n",
       "      <td>0.091053</td>\n",
       "      <td>2.938482</td>\n",
       "      <td>4.605743</td>\n",
       "      <td>0.116700</td>\n",
       "      <td>0.114938</td>\n",
       "      <td>0.182915</td>\n",
       "      <td>0.187965</td>\n",
       "      <td>0.146835</td>\n",
       "      <td>0.460759</td>\n",
       "      <td>193.848152</td>\n",
       "      <td>360.574264</td>\n",
       "    </tr>\n",
       "    <tr>\n",
       "      <th>6</th>\n",
       "      <td></td>\n",
       "      <td>7</td>\n",
       "      <td>0.150010</td>\n",
       "      <td>0.064409</td>\n",
       "      <td>2.026539</td>\n",
       "      <td>3.746584</td>\n",
       "      <td>0.080483</td>\n",
       "      <td>0.076205</td>\n",
       "      <td>0.148794</td>\n",
       "      <td>0.150737</td>\n",
       "      <td>0.101266</td>\n",
       "      <td>0.562025</td>\n",
       "      <td>102.653898</td>\n",
       "      <td>274.658431</td>\n",
       "    </tr>\n",
       "    <tr>\n",
       "      <th>7</th>\n",
       "      <td></td>\n",
       "      <td>8</td>\n",
       "      <td>0.200080</td>\n",
       "      <td>0.049028</td>\n",
       "      <td>1.617976</td>\n",
       "      <td>3.213897</td>\n",
       "      <td>0.064257</td>\n",
       "      <td>0.056302</td>\n",
       "      <td>0.127638</td>\n",
       "      <td>0.127104</td>\n",
       "      <td>0.081013</td>\n",
       "      <td>0.643038</td>\n",
       "      <td>61.797570</td>\n",
       "      <td>221.389733</td>\n",
       "    </tr>\n",
       "    <tr>\n",
       "      <th>8</th>\n",
       "      <td></td>\n",
       "      <td>9</td>\n",
       "      <td>0.300020</td>\n",
       "      <td>0.030505</td>\n",
       "      <td>1.342582</td>\n",
       "      <td>2.590544</td>\n",
       "      <td>0.053320</td>\n",
       "      <td>0.038774</td>\n",
       "      <td>0.102882</td>\n",
       "      <td>0.097681</td>\n",
       "      <td>0.134177</td>\n",
       "      <td>0.777215</td>\n",
       "      <td>34.258207</td>\n",
       "      <td>159.054366</td>\n",
       "    </tr>\n",
       "    <tr>\n",
       "      <th>9</th>\n",
       "      <td></td>\n",
       "      <td>10</td>\n",
       "      <td>0.400060</td>\n",
       "      <td>0.019101</td>\n",
       "      <td>0.683270</td>\n",
       "      <td>2.113605</td>\n",
       "      <td>0.027136</td>\n",
       "      <td>0.024033</td>\n",
       "      <td>0.083941</td>\n",
       "      <td>0.079264</td>\n",
       "      <td>0.068354</td>\n",
       "      <td>0.845570</td>\n",
       "      <td>-31.673049</td>\n",
       "      <td>111.360529</td>\n",
       "    </tr>\n",
       "    <tr>\n",
       "      <th>10</th>\n",
       "      <td></td>\n",
       "      <td>11</td>\n",
       "      <td>0.500000</td>\n",
       "      <td>0.012453</td>\n",
       "      <td>0.506635</td>\n",
       "      <td>1.792405</td>\n",
       "      <td>0.020121</td>\n",
       "      <td>0.015506</td>\n",
       "      <td>0.071184</td>\n",
       "      <td>0.066520</td>\n",
       "      <td>0.050633</td>\n",
       "      <td>0.896203</td>\n",
       "      <td>-49.336525</td>\n",
       "      <td>79.240506</td>\n",
       "    </tr>\n",
       "    <tr>\n",
       "      <th>11</th>\n",
       "      <td></td>\n",
       "      <td>12</td>\n",
       "      <td>0.600040</td>\n",
       "      <td>0.008592</td>\n",
       "      <td>0.328982</td>\n",
       "      <td>1.548419</td>\n",
       "      <td>0.013065</td>\n",
       "      <td>0.010359</td>\n",
       "      <td>0.061495</td>\n",
       "      <td>0.057157</td>\n",
       "      <td>0.032911</td>\n",
       "      <td>0.929114</td>\n",
       "      <td>-67.101838</td>\n",
       "      <td>54.841942</td>\n",
       "    </tr>\n",
       "    <tr>\n",
       "      <th>12</th>\n",
       "      <td></td>\n",
       "      <td>13</td>\n",
       "      <td>0.699980</td>\n",
       "      <td>0.006054</td>\n",
       "      <td>0.303981</td>\n",
       "      <td>1.370745</td>\n",
       "      <td>0.012072</td>\n",
       "      <td>0.007262</td>\n",
       "      <td>0.054438</td>\n",
       "      <td>0.050033</td>\n",
       "      <td>0.030380</td>\n",
       "      <td>0.959494</td>\n",
       "      <td>-69.601915</td>\n",
       "      <td>37.074462</td>\n",
       "    </tr>\n",
       "    <tr>\n",
       "      <th>13</th>\n",
       "      <td></td>\n",
       "      <td>14</td>\n",
       "      <td>0.800020</td>\n",
       "      <td>0.004142</td>\n",
       "      <td>0.227757</td>\n",
       "      <td>1.227817</td>\n",
       "      <td>0.009045</td>\n",
       "      <td>0.005039</td>\n",
       "      <td>0.048762</td>\n",
       "      <td>0.044407</td>\n",
       "      <td>0.022785</td>\n",
       "      <td>0.982278</td>\n",
       "      <td>-77.224350</td>\n",
       "      <td>22.781724</td>\n",
       "    </tr>\n",
       "    <tr>\n",
       "      <th>14</th>\n",
       "      <td></td>\n",
       "      <td>15</td>\n",
       "      <td>0.899960</td>\n",
       "      <td>0.002675</td>\n",
       "      <td>0.101327</td>\n",
       "      <td>1.102722</td>\n",
       "      <td>0.004024</td>\n",
       "      <td>0.003387</td>\n",
       "      <td>0.043794</td>\n",
       "      <td>0.039851</td>\n",
       "      <td>0.010127</td>\n",
       "      <td>0.992405</td>\n",
       "      <td>-89.867305</td>\n",
       "      <td>10.272157</td>\n",
       "    </tr>\n",
       "    <tr>\n",
       "      <th>15</th>\n",
       "      <td></td>\n",
       "      <td>16</td>\n",
       "      <td>1.000000</td>\n",
       "      <td>0.000694</td>\n",
       "      <td>0.075919</td>\n",
       "      <td>1.000000</td>\n",
       "      <td>0.003015</td>\n",
       "      <td>0.001995</td>\n",
       "      <td>0.039714</td>\n",
       "      <td>0.036064</td>\n",
       "      <td>0.007595</td>\n",
       "      <td>1.000000</td>\n",
       "      <td>-92.408117</td>\n",
       "      <td>0.000000</td>\n",
       "    </tr>\n",
       "  </tbody>\n",
       "</table>\n",
       "</div>"
      ],
      "text/plain": [
       "      group  cumulative_data_fraction  lower_threshold       lift  \\\n",
       "0         1                  0.010054         0.343128  10.827291   \n",
       "1         2                  0.020008         0.252206   6.358522   \n",
       "2         3                  0.030062         0.203367   6.294937   \n",
       "3         4                  0.040016         0.174056   4.069454   \n",
       "4         5                  0.050070         0.148770   3.776962   \n",
       "5         6                  0.100040         0.091053   2.938482   \n",
       "6         7                  0.150010         0.064409   2.026539   \n",
       "7         8                  0.200080         0.049028   1.617976   \n",
       "8         9                  0.300020         0.030505   1.342582   \n",
       "9        10                  0.400060         0.019101   0.683270   \n",
       "10       11                  0.500000         0.012453   0.506635   \n",
       "11       12                  0.600040         0.008592   0.328982   \n",
       "12       13                  0.699980         0.006054   0.303981   \n",
       "13       14                  0.800020         0.004142   0.227757   \n",
       "14       15                  0.899960         0.002675   0.101327   \n",
       "15       16                  1.000000         0.000694   0.075919   \n",
       "\n",
       "    cumulative_lift  response_rate     score  cumulative_response_rate  \\\n",
       "0         10.827291       0.430000  0.447115                  0.430000   \n",
       "1          8.604135       0.252525  0.284422                  0.341709   \n",
       "2          7.831828       0.250000  0.223842                  0.311037   \n",
       "3          6.895961       0.161616  0.188056                  0.273869   \n",
       "4          6.269656       0.150000  0.160299                  0.248996   \n",
       "5          4.605743       0.116700  0.114938                  0.182915   \n",
       "6          3.746584       0.080483  0.076205                  0.148794   \n",
       "7          3.213897       0.064257  0.056302                  0.127638   \n",
       "8          2.590544       0.053320  0.038774                  0.102882   \n",
       "9          2.113605       0.027136  0.024033                  0.083941   \n",
       "10         1.792405       0.020121  0.015506                  0.071184   \n",
       "11         1.548419       0.013065  0.010359                  0.061495   \n",
       "12         1.370745       0.012072  0.007262                  0.054438   \n",
       "13         1.227817       0.009045  0.005039                  0.048762   \n",
       "14         1.102722       0.004024  0.003387                  0.043794   \n",
       "15         1.000000       0.003015  0.001995                  0.039714   \n",
       "\n",
       "    cumulative_score  capture_rate  cumulative_capture_rate        gain  \\\n",
       "0           0.447115      0.108861                 0.108861  982.729114   \n",
       "1           0.366177      0.063291                 0.172152  535.852193   \n",
       "2           0.318573      0.063291                 0.235443  529.493671   \n",
       "3           0.286108      0.040506                 0.275949  306.945403   \n",
       "4           0.260845      0.037975                 0.313924  277.696203   \n",
       "5           0.187965      0.146835                 0.460759  193.848152   \n",
       "6           0.150737      0.101266                 0.562025  102.653898   \n",
       "7           0.127104      0.081013                 0.643038   61.797570   \n",
       "8           0.097681      0.134177                 0.777215   34.258207   \n",
       "9           0.079264      0.068354                 0.845570  -31.673049   \n",
       "10          0.066520      0.050633                 0.896203  -49.336525   \n",
       "11          0.057157      0.032911                 0.929114  -67.101838   \n",
       "12          0.050033      0.030380                 0.959494  -69.601915   \n",
       "13          0.044407      0.022785                 0.982278  -77.224350   \n",
       "14          0.039851      0.010127                 0.992405  -89.867305   \n",
       "15          0.036064      0.007595                 1.000000  -92.408117   \n",
       "\n",
       "    cumulative_gain  \n",
       "0        982.729114  \n",
       "1        760.413460  \n",
       "2        683.182761  \n",
       "3        589.596082  \n",
       "4        526.965584  \n",
       "5        360.574264  \n",
       "6        274.658431  \n",
       "7        221.389733  \n",
       "8        159.054366  \n",
       "9        111.360529  \n",
       "10        79.240506  \n",
       "11        54.841942  \n",
       "12        37.074462  \n",
       "13        22.781724  \n",
       "14        10.272157  \n",
       "15         0.000000  "
      ]
     },
     "metadata": {},
     "output_type": "display_data"
    },
    {
     "name": "stdout",
     "output_type": "stream",
     "text": [
      "\n"
     ]
    },
    {
     "data": {
      "text/plain": []
     },
     "execution_count": 13,
     "metadata": {},
     "output_type": "execute_result"
    }
   ],
   "source": [
    "%matplotlib inline\n",
    "aml.leader.model_performance(test_data=test).plot() #Plot the ROC Curve\n",
    "aml.leader.model_performance(test_data=test) #Print a summary of model performance on our test set"
   ]
  },
  {
   "cell_type": "code",
   "execution_count": 14,
   "metadata": {},
   "outputs": [
    {
     "name": "stdout",
     "output_type": "stream",
     "text": [
      "xgboost prediction progress: |████████████████████████████████████████████| 100%\n"
     ]
    },
    {
     "data": {
      "text/html": [
       "<table>\n",
       "<thead>\n",
       "<tr><th>predict  </th><th style=\"text-align: right;\">   FALSE</th><th style=\"text-align: right;\">      TRUE</th></tr>\n",
       "</thead>\n",
       "<tbody>\n",
       "<tr><td>FALSE    </td><td style=\"text-align: right;\">0.935242</td><td style=\"text-align: right;\">0.064758  </td></tr>\n",
       "<tr><td>FALSE    </td><td style=\"text-align: right;\">0.988691</td><td style=\"text-align: right;\">0.0113087 </td></tr>\n",
       "<tr><td>FALSE    </td><td style=\"text-align: right;\">0.995605</td><td style=\"text-align: right;\">0.00439531</td></tr>\n",
       "<tr><td>FALSE    </td><td style=\"text-align: right;\">0.933803</td><td style=\"text-align: right;\">0.0661968 </td></tr>\n",
       "<tr><td>FALSE    </td><td style=\"text-align: right;\">0.978089</td><td style=\"text-align: right;\">0.0219106 </td></tr>\n",
       "<tr><td>FALSE    </td><td style=\"text-align: right;\">0.994864</td><td style=\"text-align: right;\">0.00513645</td></tr>\n",
       "<tr><td>FALSE    </td><td style=\"text-align: right;\">0.996178</td><td style=\"text-align: right;\">0.00382212</td></tr>\n",
       "<tr><td>FALSE    </td><td style=\"text-align: right;\">0.997627</td><td style=\"text-align: right;\">0.0023732 </td></tr>\n",
       "<tr><td>FALSE    </td><td style=\"text-align: right;\">0.996498</td><td style=\"text-align: right;\">0.00350187</td></tr>\n",
       "<tr><td>FALSE    </td><td style=\"text-align: right;\">0.993925</td><td style=\"text-align: right;\">0.00607522</td></tr>\n",
       "</tbody>\n",
       "</table>"
      ]
     },
     "metadata": {},
     "output_type": "display_data"
    },
    {
     "data": {
      "text/plain": []
     },
     "execution_count": 14,
     "metadata": {},
     "output_type": "execute_result"
    }
   ],
   "source": [
    "# Make predictions with the top model from our leaderboard\n",
    "aml.predict(test)"
   ]
  },
  {
   "cell_type": "markdown",
   "metadata": {},
   "source": [
    "## Run AutoML for our Regression use case"
   ]
  },
  {
   "cell_type": "code",
   "execution_count": 15,
   "metadata": {},
   "outputs": [],
   "source": [
    "# Choose the response variable and the predictors for the regression problem\n",
    "y_reg = \"ORIGINAL_INTEREST_RATE\"\n",
    "ignore_reg = [\"ORIGINAL_INTEREST_RATE\", \"FIRST_PAYMENT_DATE\", \"MATURITY_DATE\", \"MORTGAGE_INSURANCE_PERCENTAGE\", \"PREPAYMENT_PENALTY_MORTGAGE_FLAG\", \"LOAN_SEQUENCE_NUMBER\", \"PREPAID\", \"DELINQUENT\", \"PRODUCT_TYPE\"] \n",
    "x_reg = [i for i in train.names if i not in ignore_reg]"
   ]
  },
  {
   "cell_type": "code",
   "execution_count": 16,
   "metadata": {},
   "outputs": [
    {
     "data": {
      "text/plain": [
       "['CREDIT_SCORE',\n",
       " 'FIRST_TIME_HOMEBUYER_FLAG',\n",
       " 'METROPOLITAN_STATISTICAL_AREA',\n",
       " 'NUMBER_OF_UNITS',\n",
       " 'OCCUPANCY_STATUS',\n",
       " 'ORIGINAL_COMBINED_LOAN_TO_VALUE',\n",
       " 'ORIGINAL_DEBT_TO_INCOME_RATIO',\n",
       " 'ORIGINAL_UPB',\n",
       " 'ORIGINAL_LOAN_TO_VALUE',\n",
       " 'CHANNEL',\n",
       " 'PROPERTY_STATE',\n",
       " 'PROPERTY_TYPE',\n",
       " 'POSTAL_CODE',\n",
       " 'LOAN_PURPOSE',\n",
       " 'ORIGINAL_LOAN_TERM',\n",
       " 'NUMBER_OF_BORROWERS',\n",
       " 'SELLER_NAME',\n",
       " 'SERVICER_NAME']"
      ]
     },
     "execution_count": 16,
     "metadata": {},
     "output_type": "execute_result"
    }
   ],
   "source": [
    "x_reg #print the predictors"
   ]
  },
  {
   "cell_type": "markdown",
   "metadata": {},
   "source": [
    "<div class=\"alert alert-block alert-success\"><span style=\"color:black\">\n",
    "  Now, instead of specifying the maximum running time, we will specify a maximum number of models that we want from AutoML. We will also set the stopping metric to RMSE, as well as the sort_metric for the leaderboard.   \n",
    "</span></div>"
   ]
  },
  {
   "cell_type": "code",
   "execution_count": 17,
   "metadata": {},
   "outputs": [
    {
     "name": "stdout",
     "output_type": "stream",
     "text": [
      "AutoML progress: |████████████████████████████████████████████████████████| 100%\n",
      "CPU times: user 1.72 s, sys: 301 ms, total: 2.02 s\n",
      "Wall time: 7min 18s\n"
     ]
    }
   ],
   "source": [
    "aml = H2OAutoML(max_models=10, seed=42, project_name='regression', stopping_metric=\"RMSE\", sort_metric=\"RMSE\")\n",
    "%time aml.train(x=x_reg, y=y_reg, training_frame=train) "
   ]
  },
  {
   "cell_type": "code",
   "execution_count": 18,
   "metadata": {},
   "outputs": [
    {
     "data": {
      "text/html": [
       "<table>\n",
       "<thead>\n",
       "<tr><th>model_id                                           </th><th style=\"text-align: right;\">  mean_residual_deviance</th><th style=\"text-align: right;\">    rmse</th><th style=\"text-align: right;\">     mse</th><th style=\"text-align: right;\">     mae</th><th style=\"text-align: right;\">    rmsle</th></tr>\n",
       "</thead>\n",
       "<tbody>\n",
       "<tr><td>StackedEnsemble_AllModels_AutoML_20191029_174901   </td><td style=\"text-align: right;\">                0.181866</td><td style=\"text-align: right;\">0.426458</td><td style=\"text-align: right;\">0.181866</td><td style=\"text-align: right;\">0.309182</td><td style=\"text-align: right;\">0.0504587</td></tr>\n",
       "<tr><td>StackedEnsemble_BestOfFamily_AutoML_20191029_174901</td><td style=\"text-align: right;\">                0.18294 </td><td style=\"text-align: right;\">0.427715</td><td style=\"text-align: right;\">0.18294 </td><td style=\"text-align: right;\">0.310117</td><td style=\"text-align: right;\">0.0506015</td></tr>\n",
       "<tr><td>GBM_3_AutoML_20191029_174901                       </td><td style=\"text-align: right;\">                0.185504</td><td style=\"text-align: right;\">0.430701</td><td style=\"text-align: right;\">0.185504</td><td style=\"text-align: right;\">0.312407</td><td style=\"text-align: right;\">0.0509515</td></tr>\n",
       "<tr><td>GBM_2_AutoML_20191029_174901                       </td><td style=\"text-align: right;\">                0.185816</td><td style=\"text-align: right;\">0.431064</td><td style=\"text-align: right;\">0.185816</td><td style=\"text-align: right;\">0.313343</td><td style=\"text-align: right;\">0.0509788</td></tr>\n",
       "<tr><td>GBM_5_AutoML_20191029_174901                       </td><td style=\"text-align: right;\">                0.185954</td><td style=\"text-align: right;\">0.431224</td><td style=\"text-align: right;\">0.185954</td><td style=\"text-align: right;\">0.313482</td><td style=\"text-align: right;\">0.0510417</td></tr>\n",
       "<tr><td>GBM_1_AutoML_20191029_174901                       </td><td style=\"text-align: right;\">                0.186433</td><td style=\"text-align: right;\">0.431779</td><td style=\"text-align: right;\">0.186433</td><td style=\"text-align: right;\">0.313988</td><td style=\"text-align: right;\">0.0510728</td></tr>\n",
       "<tr><td>XGBoost_1_AutoML_20191029_174901                   </td><td style=\"text-align: right;\">                0.18753 </td><td style=\"text-align: right;\">0.433047</td><td style=\"text-align: right;\">0.18753 </td><td style=\"text-align: right;\">0.315358</td><td style=\"text-align: right;\">0.0512072</td></tr>\n",
       "<tr><td>XGBoost_2_AutoML_20191029_174901                   </td><td style=\"text-align: right;\">                0.187632</td><td style=\"text-align: right;\">0.433165</td><td style=\"text-align: right;\">0.187632</td><td style=\"text-align: right;\">0.314343</td><td style=\"text-align: right;\">0.0512327</td></tr>\n",
       "<tr><td>GBM_4_AutoML_20191029_174901                       </td><td style=\"text-align: right;\">                0.187643</td><td style=\"text-align: right;\">0.433178</td><td style=\"text-align: right;\">0.187643</td><td style=\"text-align: right;\">0.314254</td><td style=\"text-align: right;\">0.0512353</td></tr>\n",
       "<tr><td>DRF_1_AutoML_20191029_174901                       </td><td style=\"text-align: right;\">                0.191867</td><td style=\"text-align: right;\">0.438027</td><td style=\"text-align: right;\">0.191867</td><td style=\"text-align: right;\">0.316769</td><td style=\"text-align: right;\">0.051768 </td></tr>\n",
       "</tbody>\n",
       "</table>"
      ]
     },
     "metadata": {},
     "output_type": "display_data"
    },
    {
     "data": {
      "text/plain": []
     },
     "execution_count": 18,
     "metadata": {},
     "output_type": "execute_result"
    }
   ],
   "source": [
    "aml.leaderboard"
   ]
  },
  {
   "cell_type": "markdown",
   "metadata": {},
   "source": [
    "<div class=\"alert alert-block alert-success\"><span style=\"color:black\">\n",
    "     Even though an stacked ensemble was the best model, let's first retrieve the best XGBoost model\n",
    "</span></div>"
   ]
  },
  {
   "cell_type": "code",
   "execution_count": 19,
   "metadata": {},
   "outputs": [
    {
     "data": {
      "text/plain": [
       "{'default': 1.0, 'actual': 0.6}"
      ]
     },
     "execution_count": 19,
     "metadata": {},
     "output_type": "execute_result"
    }
   ],
   "source": [
    "# Get model ids for all models in the AutoML Leaderboard\n",
    "model_ids = list(aml.leaderboard['model_id'].as_data_frame().iloc[:,0])\n",
    "# Get the top XGBoost model\n",
    "xgb = h2o.get_model([mid for mid in model_ids if \"XGBoost_1\" in mid][0])\n",
    "xgb.params['sample_rate'] #display model sample_rate"
   ]
  },
  {
   "cell_type": "code",
   "execution_count": 20,
   "metadata": {},
   "outputs": [
    {
     "data": {
      "text/plain": [
       "{'default': 50, 'actual': 185}"
      ]
     },
     "execution_count": 20,
     "metadata": {},
     "output_type": "execute_result"
    }
   ],
   "source": [
    "xgb.params['ntrees']"
   ]
  },
  {
   "cell_type": "code",
   "execution_count": 21,
   "metadata": {},
   "outputs": [
    {
     "data": {
      "text/plain": [
       "{'default': 6, 'actual': 10}"
      ]
     },
     "execution_count": 21,
     "metadata": {},
     "output_type": "execute_result"
    }
   ],
   "source": [
    "xgb.params['max_depth']"
   ]
  },
  {
   "cell_type": "code",
   "execution_count": 22,
   "metadata": {
    "scrolled": false
   },
   "outputs": [
    {
     "name": "stdout",
     "output_type": "stream",
     "text": [
      "Model Details\n",
      "=============\n",
      "H2OXGBoostEstimator :  XGBoost\n",
      "Model Key:  XGBoost_1_AutoML_20191029_174901\n",
      "\n",
      "\n",
      "Model Summary: "
     ]
    },
    {
     "data": {
      "text/html": [
       "<div>\n",
       "<style scoped>\n",
       "    .dataframe tbody tr th:only-of-type {\n",
       "        vertical-align: middle;\n",
       "    }\n",
       "\n",
       "    .dataframe tbody tr th {\n",
       "        vertical-align: top;\n",
       "    }\n",
       "\n",
       "    .dataframe thead th {\n",
       "        text-align: right;\n",
       "    }\n",
       "</style>\n",
       "<table border=\"1\" class=\"dataframe\">\n",
       "  <thead>\n",
       "    <tr style=\"text-align: right;\">\n",
       "      <th></th>\n",
       "      <th></th>\n",
       "      <th>number_of_trees</th>\n",
       "    </tr>\n",
       "  </thead>\n",
       "  <tbody>\n",
       "    <tr>\n",
       "      <th>0</th>\n",
       "      <td></td>\n",
       "      <td>185.0</td>\n",
       "    </tr>\n",
       "  </tbody>\n",
       "</table>\n",
       "</div>"
      ],
      "text/plain": [
       "     number_of_trees\n",
       "0              185.0"
      ]
     },
     "metadata": {},
     "output_type": "display_data"
    },
    {
     "name": "stdout",
     "output_type": "stream",
     "text": [
      "\n",
      "\n",
      "ModelMetricsRegression: xgboost\n",
      "** Reported on train data. **\n",
      "\n",
      "MSE: 0.14631291494077517\n",
      "RMSE: 0.3825087122416628\n",
      "MAE: 0.27886652581545773\n",
      "RMSLE: 0.04528379081939399\n",
      "Mean Residual Deviance: 0.14631291494077517\n",
      "\n",
      "ModelMetricsRegression: xgboost\n",
      "** Reported on cross-validation data. **\n",
      "\n",
      "MSE: 0.1875299393829221\n",
      "RMSE: 0.43304727153386163\n",
      "MAE: 0.3153576123900488\n",
      "RMSLE: 0.051207245695484495\n",
      "Mean Residual Deviance: 0.1875299393829221\n",
      "\n",
      "Cross-Validation Metrics Summary: "
     ]
    },
    {
     "data": {
      "text/html": [
       "<div>\n",
       "<style scoped>\n",
       "    .dataframe tbody tr th:only-of-type {\n",
       "        vertical-align: middle;\n",
       "    }\n",
       "\n",
       "    .dataframe tbody tr th {\n",
       "        vertical-align: top;\n",
       "    }\n",
       "\n",
       "    .dataframe thead th {\n",
       "        text-align: right;\n",
       "    }\n",
       "</style>\n",
       "<table border=\"1\" class=\"dataframe\">\n",
       "  <thead>\n",
       "    <tr style=\"text-align: right;\">\n",
       "      <th></th>\n",
       "      <th></th>\n",
       "      <th>mean</th>\n",
       "      <th>sd</th>\n",
       "      <th>cv_1_valid</th>\n",
       "      <th>cv_2_valid</th>\n",
       "      <th>cv_3_valid</th>\n",
       "      <th>cv_4_valid</th>\n",
       "      <th>cv_5_valid</th>\n",
       "    </tr>\n",
       "  </thead>\n",
       "  <tbody>\n",
       "    <tr>\n",
       "      <th>0</th>\n",
       "      <td>mae</td>\n",
       "      <td>0.31535763</td>\n",
       "      <td>9.71035E-4</td>\n",
       "      <td>0.31602105</td>\n",
       "      <td>0.3159187</td>\n",
       "      <td>0.31368628</td>\n",
       "      <td>0.3153326</td>\n",
       "      <td>0.3158295</td>\n",
       "    </tr>\n",
       "    <tr>\n",
       "      <th>1</th>\n",
       "      <td>mean_residual_deviance</td>\n",
       "      <td>0.18752992</td>\n",
       "      <td>0.0021783994</td>\n",
       "      <td>0.18929599</td>\n",
       "      <td>0.19000812</td>\n",
       "      <td>0.18456903</td>\n",
       "      <td>0.18714395</td>\n",
       "      <td>0.1866325</td>\n",
       "    </tr>\n",
       "    <tr>\n",
       "      <th>2</th>\n",
       "      <td>mse</td>\n",
       "      <td>0.18752992</td>\n",
       "      <td>0.0021783994</td>\n",
       "      <td>0.18929599</td>\n",
       "      <td>0.19000812</td>\n",
       "      <td>0.18456903</td>\n",
       "      <td>0.18714395</td>\n",
       "      <td>0.1866325</td>\n",
       "    </tr>\n",
       "    <tr>\n",
       "      <th>3</th>\n",
       "      <td>r2</td>\n",
       "      <td>0.45027646</td>\n",
       "      <td>0.0044789384</td>\n",
       "      <td>0.44677863</td>\n",
       "      <td>0.44705567</td>\n",
       "      <td>0.45308232</td>\n",
       "      <td>0.45682126</td>\n",
       "      <td>0.44764438</td>\n",
       "    </tr>\n",
       "    <tr>\n",
       "      <th>4</th>\n",
       "      <td>residual_deviance</td>\n",
       "      <td>0.18752992</td>\n",
       "      <td>0.0021783994</td>\n",
       "      <td>0.18929599</td>\n",
       "      <td>0.19000812</td>\n",
       "      <td>0.18456903</td>\n",
       "      <td>0.18714395</td>\n",
       "      <td>0.1866325</td>\n",
       "    </tr>\n",
       "    <tr>\n",
       "      <th>5</th>\n",
       "      <td>rmse</td>\n",
       "      <td>0.4330414</td>\n",
       "      <td>0.002516325</td>\n",
       "      <td>0.4350816</td>\n",
       "      <td>0.4358992</td>\n",
       "      <td>0.429615</td>\n",
       "      <td>0.43260136</td>\n",
       "      <td>0.43200985</td>\n",
       "    </tr>\n",
       "    <tr>\n",
       "      <th>6</th>\n",
       "      <td>rmsle</td>\n",
       "      <td>0.05120668</td>\n",
       "      <td>2.69103E-4</td>\n",
       "      <td>0.05132234</td>\n",
       "      <td>0.051532995</td>\n",
       "      <td>0.050795536</td>\n",
       "      <td>0.051179137</td>\n",
       "      <td>0.05120339</td>\n",
       "    </tr>\n",
       "  </tbody>\n",
       "</table>\n",
       "</div>"
      ],
      "text/plain": [
       "                                 mean            sd  cv_1_valid   cv_2_valid  \\\n",
       "0                     mae  0.31535763    9.71035E-4  0.31602105    0.3159187   \n",
       "1  mean_residual_deviance  0.18752992  0.0021783994  0.18929599   0.19000812   \n",
       "2                     mse  0.18752992  0.0021783994  0.18929599   0.19000812   \n",
       "3                      r2  0.45027646  0.0044789384  0.44677863   0.44705567   \n",
       "4       residual_deviance  0.18752992  0.0021783994  0.18929599   0.19000812   \n",
       "5                    rmse   0.4330414   0.002516325   0.4350816    0.4358992   \n",
       "6                   rmsle  0.05120668    2.69103E-4  0.05132234  0.051532995   \n",
       "\n",
       "    cv_3_valid   cv_4_valid  cv_5_valid  \n",
       "0   0.31368628    0.3153326   0.3158295  \n",
       "1   0.18456903   0.18714395   0.1866325  \n",
       "2   0.18456903   0.18714395   0.1866325  \n",
       "3   0.45308232   0.45682126  0.44764438  \n",
       "4   0.18456903   0.18714395   0.1866325  \n",
       "5     0.429615   0.43260136  0.43200985  \n",
       "6  0.050795536  0.051179137  0.05120339  "
      ]
     },
     "metadata": {},
     "output_type": "display_data"
    },
    {
     "name": "stdout",
     "output_type": "stream",
     "text": [
      "\n",
      "Scoring History: "
     ]
    },
    {
     "data": {
      "text/html": [
       "<div>\n",
       "<style scoped>\n",
       "    .dataframe tbody tr th:only-of-type {\n",
       "        vertical-align: middle;\n",
       "    }\n",
       "\n",
       "    .dataframe tbody tr th {\n",
       "        vertical-align: top;\n",
       "    }\n",
       "\n",
       "    .dataframe thead th {\n",
       "        text-align: right;\n",
       "    }\n",
       "</style>\n",
       "<table border=\"1\" class=\"dataframe\">\n",
       "  <thead>\n",
       "    <tr style=\"text-align: right;\">\n",
       "      <th></th>\n",
       "      <th></th>\n",
       "      <th>timestamp</th>\n",
       "      <th>duration</th>\n",
       "      <th>number_of_trees</th>\n",
       "      <th>training_rmse</th>\n",
       "      <th>training_mae</th>\n",
       "      <th>training_deviance</th>\n",
       "    </tr>\n",
       "  </thead>\n",
       "  <tbody>\n",
       "    <tr>\n",
       "      <th>0</th>\n",
       "      <td></td>\n",
       "      <td>2019-10-29 17:50:26</td>\n",
       "      <td>1 min 24.954 sec</td>\n",
       "      <td>0.0</td>\n",
       "      <td>6.712417</td>\n",
       "      <td>6.686958</td>\n",
       "      <td>45.056547</td>\n",
       "    </tr>\n",
       "    <tr>\n",
       "      <th>1</th>\n",
       "      <td></td>\n",
       "      <td>2019-10-29 17:50:26</td>\n",
       "      <td>1 min 25.352 sec</td>\n",
       "      <td>5.0</td>\n",
       "      <td>5.205114</td>\n",
       "      <td>5.175165</td>\n",
       "      <td>27.093208</td>\n",
       "    </tr>\n",
       "    <tr>\n",
       "      <th>2</th>\n",
       "      <td></td>\n",
       "      <td>2019-10-29 17:50:26</td>\n",
       "      <td>1 min 25.733 sec</td>\n",
       "      <td>10.0</td>\n",
       "      <td>4.040877</td>\n",
       "      <td>4.005116</td>\n",
       "      <td>16.328685</td>\n",
       "    </tr>\n",
       "    <tr>\n",
       "      <th>3</th>\n",
       "      <td></td>\n",
       "      <td>2019-10-29 17:50:27</td>\n",
       "      <td>1 min 26.071 sec</td>\n",
       "      <td>15.0</td>\n",
       "      <td>3.143757</td>\n",
       "      <td>3.100048</td>\n",
       "      <td>9.883206</td>\n",
       "    </tr>\n",
       "    <tr>\n",
       "      <th>4</th>\n",
       "      <td></td>\n",
       "      <td>2019-10-29 17:50:27</td>\n",
       "      <td>1 min 26.471 sec</td>\n",
       "      <td>20.0</td>\n",
       "      <td>2.453008</td>\n",
       "      <td>2.399689</td>\n",
       "      <td>6.017247</td>\n",
       "    </tr>\n",
       "    <tr>\n",
       "      <th>5</th>\n",
       "      <td></td>\n",
       "      <td>2019-10-29 17:50:28</td>\n",
       "      <td>1 min 26.885 sec</td>\n",
       "      <td>25.0</td>\n",
       "      <td>1.922435</td>\n",
       "      <td>1.857067</td>\n",
       "      <td>3.695755</td>\n",
       "    </tr>\n",
       "    <tr>\n",
       "      <th>6</th>\n",
       "      <td></td>\n",
       "      <td>2019-10-29 17:50:28</td>\n",
       "      <td>1 min 27.339 sec</td>\n",
       "      <td>30.0</td>\n",
       "      <td>1.517988</td>\n",
       "      <td>1.438038</td>\n",
       "      <td>2.304288</td>\n",
       "    </tr>\n",
       "    <tr>\n",
       "      <th>7</th>\n",
       "      <td></td>\n",
       "      <td>2019-10-29 17:50:29</td>\n",
       "      <td>1 min 27.806 sec</td>\n",
       "      <td>35.0</td>\n",
       "      <td>1.211701</td>\n",
       "      <td>1.114454</td>\n",
       "      <td>1.468219</td>\n",
       "    </tr>\n",
       "    <tr>\n",
       "      <th>8</th>\n",
       "      <td></td>\n",
       "      <td>2019-10-29 17:50:29</td>\n",
       "      <td>1 min 28.277 sec</td>\n",
       "      <td>40.0</td>\n",
       "      <td>0.982511</td>\n",
       "      <td>0.866197</td>\n",
       "      <td>0.965328</td>\n",
       "    </tr>\n",
       "    <tr>\n",
       "      <th>9</th>\n",
       "      <td></td>\n",
       "      <td>2019-10-29 17:50:29</td>\n",
       "      <td>1 min 28.704 sec</td>\n",
       "      <td>45.0</td>\n",
       "      <td>0.812779</td>\n",
       "      <td>0.678535</td>\n",
       "      <td>0.660609</td>\n",
       "    </tr>\n",
       "    <tr>\n",
       "      <th>10</th>\n",
       "      <td></td>\n",
       "      <td>2019-10-29 17:50:30</td>\n",
       "      <td>1 min 29.174 sec</td>\n",
       "      <td>50.0</td>\n",
       "      <td>0.689637</td>\n",
       "      <td>0.542344</td>\n",
       "      <td>0.475599</td>\n",
       "    </tr>\n",
       "    <tr>\n",
       "      <th>11</th>\n",
       "      <td></td>\n",
       "      <td>2019-10-29 17:50:30</td>\n",
       "      <td>1 min 29.662 sec</td>\n",
       "      <td>55.0</td>\n",
       "      <td>0.602643</td>\n",
       "      <td>0.449404</td>\n",
       "      <td>0.363179</td>\n",
       "    </tr>\n",
       "    <tr>\n",
       "      <th>12</th>\n",
       "      <td></td>\n",
       "      <td>2019-10-29 17:50:31</td>\n",
       "      <td>1 min 30.130 sec</td>\n",
       "      <td>60.0</td>\n",
       "      <td>0.542330</td>\n",
       "      <td>0.389141</td>\n",
       "      <td>0.294122</td>\n",
       "    </tr>\n",
       "    <tr>\n",
       "      <th>13</th>\n",
       "      <td></td>\n",
       "      <td>2019-10-29 17:50:31</td>\n",
       "      <td>1 min 30.637 sec</td>\n",
       "      <td>65.0</td>\n",
       "      <td>0.500899</td>\n",
       "      <td>0.351484</td>\n",
       "      <td>0.250900</td>\n",
       "    </tr>\n",
       "    <tr>\n",
       "      <th>14</th>\n",
       "      <td></td>\n",
       "      <td>2019-10-29 17:50:32</td>\n",
       "      <td>1 min 31.115 sec</td>\n",
       "      <td>70.0</td>\n",
       "      <td>0.472993</td>\n",
       "      <td>0.329345</td>\n",
       "      <td>0.223723</td>\n",
       "    </tr>\n",
       "    <tr>\n",
       "      <th>15</th>\n",
       "      <td></td>\n",
       "      <td>2019-10-29 17:50:32</td>\n",
       "      <td>1 min 31.663 sec</td>\n",
       "      <td>75.0</td>\n",
       "      <td>0.454655</td>\n",
       "      <td>0.316906</td>\n",
       "      <td>0.206711</td>\n",
       "    </tr>\n",
       "    <tr>\n",
       "      <th>16</th>\n",
       "      <td></td>\n",
       "      <td>2019-10-29 17:50:33</td>\n",
       "      <td>1 min 32.213 sec</td>\n",
       "      <td>80.0</td>\n",
       "      <td>0.442009</td>\n",
       "      <td>0.309860</td>\n",
       "      <td>0.195372</td>\n",
       "    </tr>\n",
       "    <tr>\n",
       "      <th>17</th>\n",
       "      <td></td>\n",
       "      <td>2019-10-29 17:50:33</td>\n",
       "      <td>1 min 32.777 sec</td>\n",
       "      <td>85.0</td>\n",
       "      <td>0.432625</td>\n",
       "      <td>0.305698</td>\n",
       "      <td>0.187164</td>\n",
       "    </tr>\n",
       "    <tr>\n",
       "      <th>18</th>\n",
       "      <td></td>\n",
       "      <td>2019-10-29 17:50:34</td>\n",
       "      <td>1 min 33.267 sec</td>\n",
       "      <td>90.0</td>\n",
       "      <td>0.426710</td>\n",
       "      <td>0.303501</td>\n",
       "      <td>0.182082</td>\n",
       "    </tr>\n",
       "    <tr>\n",
       "      <th>19</th>\n",
       "      <td></td>\n",
       "      <td>2019-10-29 17:50:35</td>\n",
       "      <td>1 min 33.832 sec</td>\n",
       "      <td>95.0</td>\n",
       "      <td>0.420762</td>\n",
       "      <td>0.301158</td>\n",
       "      <td>0.177041</td>\n",
       "    </tr>\n",
       "  </tbody>\n",
       "</table>\n",
       "</div>"
      ],
      "text/plain": [
       "                timestamp           duration  number_of_trees  training_rmse  \\\n",
       "0     2019-10-29 17:50:26   1 min 24.954 sec              0.0       6.712417   \n",
       "1     2019-10-29 17:50:26   1 min 25.352 sec              5.0       5.205114   \n",
       "2     2019-10-29 17:50:26   1 min 25.733 sec             10.0       4.040877   \n",
       "3     2019-10-29 17:50:27   1 min 26.071 sec             15.0       3.143757   \n",
       "4     2019-10-29 17:50:27   1 min 26.471 sec             20.0       2.453008   \n",
       "5     2019-10-29 17:50:28   1 min 26.885 sec             25.0       1.922435   \n",
       "6     2019-10-29 17:50:28   1 min 27.339 sec             30.0       1.517988   \n",
       "7     2019-10-29 17:50:29   1 min 27.806 sec             35.0       1.211701   \n",
       "8     2019-10-29 17:50:29   1 min 28.277 sec             40.0       0.982511   \n",
       "9     2019-10-29 17:50:29   1 min 28.704 sec             45.0       0.812779   \n",
       "10    2019-10-29 17:50:30   1 min 29.174 sec             50.0       0.689637   \n",
       "11    2019-10-29 17:50:30   1 min 29.662 sec             55.0       0.602643   \n",
       "12    2019-10-29 17:50:31   1 min 30.130 sec             60.0       0.542330   \n",
       "13    2019-10-29 17:50:31   1 min 30.637 sec             65.0       0.500899   \n",
       "14    2019-10-29 17:50:32   1 min 31.115 sec             70.0       0.472993   \n",
       "15    2019-10-29 17:50:32   1 min 31.663 sec             75.0       0.454655   \n",
       "16    2019-10-29 17:50:33   1 min 32.213 sec             80.0       0.442009   \n",
       "17    2019-10-29 17:50:33   1 min 32.777 sec             85.0       0.432625   \n",
       "18    2019-10-29 17:50:34   1 min 33.267 sec             90.0       0.426710   \n",
       "19    2019-10-29 17:50:35   1 min 33.832 sec             95.0       0.420762   \n",
       "\n",
       "    training_mae  training_deviance  \n",
       "0       6.686958          45.056547  \n",
       "1       5.175165          27.093208  \n",
       "2       4.005116          16.328685  \n",
       "3       3.100048           9.883206  \n",
       "4       2.399689           6.017247  \n",
       "5       1.857067           3.695755  \n",
       "6       1.438038           2.304288  \n",
       "7       1.114454           1.468219  \n",
       "8       0.866197           0.965328  \n",
       "9       0.678535           0.660609  \n",
       "10      0.542344           0.475599  \n",
       "11      0.449404           0.363179  \n",
       "12      0.389141           0.294122  \n",
       "13      0.351484           0.250900  \n",
       "14      0.329345           0.223723  \n",
       "15      0.316906           0.206711  \n",
       "16      0.309860           0.195372  \n",
       "17      0.305698           0.187164  \n",
       "18      0.303501           0.182082  \n",
       "19      0.301158           0.177041  "
      ]
     },
     "metadata": {},
     "output_type": "display_data"
    },
    {
     "name": "stdout",
     "output_type": "stream",
     "text": [
      "\n",
      "See the whole table with table.as_data_frame()\n",
      "\n",
      "Variable Importances: "
     ]
    },
    {
     "data": {
      "text/html": [
       "<div>\n",
       "<style scoped>\n",
       "    .dataframe tbody tr th:only-of-type {\n",
       "        vertical-align: middle;\n",
       "    }\n",
       "\n",
       "    .dataframe tbody tr th {\n",
       "        vertical-align: top;\n",
       "    }\n",
       "\n",
       "    .dataframe thead th {\n",
       "        text-align: right;\n",
       "    }\n",
       "</style>\n",
       "<table border=\"1\" class=\"dataframe\">\n",
       "  <thead>\n",
       "    <tr style=\"text-align: right;\">\n",
       "      <th></th>\n",
       "      <th>variable</th>\n",
       "      <th>relative_importance</th>\n",
       "      <th>scaled_importance</th>\n",
       "      <th>percentage</th>\n",
       "    </tr>\n",
       "  </thead>\n",
       "  <tbody>\n",
       "    <tr>\n",
       "      <th>0</th>\n",
       "      <td>SELLER_NAME.NORWESTMORTGAGE,INC</td>\n",
       "      <td>8240.942383</td>\n",
       "      <td>1.000000</td>\n",
       "      <td>0.177164</td>\n",
       "    </tr>\n",
       "    <tr>\n",
       "      <th>1</th>\n",
       "      <td>ORIGINAL_UPB</td>\n",
       "      <td>3376.266602</td>\n",
       "      <td>0.409694</td>\n",
       "      <td>0.072583</td>\n",
       "    </tr>\n",
       "    <tr>\n",
       "      <th>2</th>\n",
       "      <td>CREDIT_SCORE</td>\n",
       "      <td>3181.517578</td>\n",
       "      <td>0.386062</td>\n",
       "      <td>0.068396</td>\n",
       "    </tr>\n",
       "    <tr>\n",
       "      <th>3</th>\n",
       "      <td>POSTAL_CODE</td>\n",
       "      <td>2307.643066</td>\n",
       "      <td>0.280022</td>\n",
       "      <td>0.049610</td>\n",
       "    </tr>\n",
       "    <tr>\n",
       "      <th>4</th>\n",
       "      <td>ORIGINAL_DEBT_TO_INCOME_RATIO</td>\n",
       "      <td>2043.422974</td>\n",
       "      <td>0.247960</td>\n",
       "      <td>0.043929</td>\n",
       "    </tr>\n",
       "    <tr>\n",
       "      <th>5</th>\n",
       "      <td>ORIGINAL_LOAN_TO_VALUE</td>\n",
       "      <td>1835.531860</td>\n",
       "      <td>0.222733</td>\n",
       "      <td>0.039460</td>\n",
       "    </tr>\n",
       "    <tr>\n",
       "      <th>6</th>\n",
       "      <td>OCCUPANCY_STATUS.I</td>\n",
       "      <td>1754.175415</td>\n",
       "      <td>0.212861</td>\n",
       "      <td>0.037711</td>\n",
       "    </tr>\n",
       "    <tr>\n",
       "      <th>7</th>\n",
       "      <td>METROPOLITAN_STATISTICAL_AREA</td>\n",
       "      <td>1677.003174</td>\n",
       "      <td>0.203497</td>\n",
       "      <td>0.036052</td>\n",
       "    </tr>\n",
       "    <tr>\n",
       "      <th>8</th>\n",
       "      <td>LOAN_PURPOSE.P</td>\n",
       "      <td>1539.581543</td>\n",
       "      <td>0.186821</td>\n",
       "      <td>0.033098</td>\n",
       "    </tr>\n",
       "    <tr>\n",
       "      <th>9</th>\n",
       "      <td>ORIGINAL_COMBINED_LOAN_TO_VALUE</td>\n",
       "      <td>1530.953491</td>\n",
       "      <td>0.185774</td>\n",
       "      <td>0.032912</td>\n",
       "    </tr>\n",
       "    <tr>\n",
       "      <th>10</th>\n",
       "      <td>SERVICER_NAME.ABNAMROMTGEGROUP,INC</td>\n",
       "      <td>934.200989</td>\n",
       "      <td>0.113361</td>\n",
       "      <td>0.020083</td>\n",
       "    </tr>\n",
       "    <tr>\n",
       "      <th>11</th>\n",
       "      <td>SELLER_NAME.COUNTRYWIDE</td>\n",
       "      <td>901.324951</td>\n",
       "      <td>0.109372</td>\n",
       "      <td>0.019377</td>\n",
       "    </tr>\n",
       "    <tr>\n",
       "      <th>12</th>\n",
       "      <td>SELLER_NAME.NATLCITYMTGECO</td>\n",
       "      <td>898.195740</td>\n",
       "      <td>0.108992</td>\n",
       "      <td>0.019309</td>\n",
       "    </tr>\n",
       "    <tr>\n",
       "      <th>13</th>\n",
       "      <td>SELLER_NAME.BANKOFAMERICA,NA</td>\n",
       "      <td>808.931213</td>\n",
       "      <td>0.098160</td>\n",
       "      <td>0.017390</td>\n",
       "    </tr>\n",
       "    <tr>\n",
       "      <th>14</th>\n",
       "      <td>SELLER_NAME.PNCMTGECORPOFAMERICA</td>\n",
       "      <td>729.244385</td>\n",
       "      <td>0.088490</td>\n",
       "      <td>0.015677</td>\n",
       "    </tr>\n",
       "    <tr>\n",
       "      <th>15</th>\n",
       "      <td>SELLER_NAME.CROSSLANDMTGECORP</td>\n",
       "      <td>672.849609</td>\n",
       "      <td>0.081647</td>\n",
       "      <td>0.014465</td>\n",
       "    </tr>\n",
       "    <tr>\n",
       "      <th>16</th>\n",
       "      <td>SERVICER_NAME.Otherservicers</td>\n",
       "      <td>615.833130</td>\n",
       "      <td>0.074728</td>\n",
       "      <td>0.013239</td>\n",
       "    </tr>\n",
       "    <tr>\n",
       "      <th>17</th>\n",
       "      <td>SELLER_NAME.Othersellers</td>\n",
       "      <td>589.087524</td>\n",
       "      <td>0.071483</td>\n",
       "      <td>0.012664</td>\n",
       "    </tr>\n",
       "    <tr>\n",
       "      <th>18</th>\n",
       "      <td>SELLER_NAME.FIRSTHORIZONHOMELOAN</td>\n",
       "      <td>585.826538</td>\n",
       "      <td>0.071087</td>\n",
       "      <td>0.012594</td>\n",
       "    </tr>\n",
       "    <tr>\n",
       "      <th>19</th>\n",
       "      <td>SELLER_NAME.STANDARDFEDERALBAN</td>\n",
       "      <td>489.099365</td>\n",
       "      <td>0.059350</td>\n",
       "      <td>0.010515</td>\n",
       "    </tr>\n",
       "  </tbody>\n",
       "</table>\n",
       "</div>"
      ],
      "text/plain": [
       "                              variable  relative_importance  \\\n",
       "0      SELLER_NAME.NORWESTMORTGAGE,INC          8240.942383   \n",
       "1                         ORIGINAL_UPB          3376.266602   \n",
       "2                         CREDIT_SCORE          3181.517578   \n",
       "3                          POSTAL_CODE          2307.643066   \n",
       "4        ORIGINAL_DEBT_TO_INCOME_RATIO          2043.422974   \n",
       "5               ORIGINAL_LOAN_TO_VALUE          1835.531860   \n",
       "6                   OCCUPANCY_STATUS.I          1754.175415   \n",
       "7        METROPOLITAN_STATISTICAL_AREA          1677.003174   \n",
       "8                       LOAN_PURPOSE.P          1539.581543   \n",
       "9      ORIGINAL_COMBINED_LOAN_TO_VALUE          1530.953491   \n",
       "10  SERVICER_NAME.ABNAMROMTGEGROUP,INC           934.200989   \n",
       "11             SELLER_NAME.COUNTRYWIDE           901.324951   \n",
       "12          SELLER_NAME.NATLCITYMTGECO           898.195740   \n",
       "13        SELLER_NAME.BANKOFAMERICA,NA           808.931213   \n",
       "14    SELLER_NAME.PNCMTGECORPOFAMERICA           729.244385   \n",
       "15       SELLER_NAME.CROSSLANDMTGECORP           672.849609   \n",
       "16        SERVICER_NAME.Otherservicers           615.833130   \n",
       "17            SELLER_NAME.Othersellers           589.087524   \n",
       "18    SELLER_NAME.FIRSTHORIZONHOMELOAN           585.826538   \n",
       "19      SELLER_NAME.STANDARDFEDERALBAN           489.099365   \n",
       "\n",
       "    scaled_importance  percentage  \n",
       "0            1.000000    0.177164  \n",
       "1            0.409694    0.072583  \n",
       "2            0.386062    0.068396  \n",
       "3            0.280022    0.049610  \n",
       "4            0.247960    0.043929  \n",
       "5            0.222733    0.039460  \n",
       "6            0.212861    0.037711  \n",
       "7            0.203497    0.036052  \n",
       "8            0.186821    0.033098  \n",
       "9            0.185774    0.032912  \n",
       "10           0.113361    0.020083  \n",
       "11           0.109372    0.019377  \n",
       "12           0.108992    0.019309  \n",
       "13           0.098160    0.017390  \n",
       "14           0.088490    0.015677  \n",
       "15           0.081647    0.014465  \n",
       "16           0.074728    0.013239  \n",
       "17           0.071483    0.012664  \n",
       "18           0.071087    0.012594  \n",
       "19           0.059350    0.010515  "
      ]
     },
     "metadata": {},
     "output_type": "display_data"
    },
    {
     "name": "stdout",
     "output_type": "stream",
     "text": [
      "\n",
      "See the whole table with table.as_data_frame()\n"
     ]
    },
    {
     "data": {
      "text/plain": []
     },
     "execution_count": 22,
     "metadata": {},
     "output_type": "execute_result"
    }
   ],
   "source": [
    "xgb"
   ]
  },
  {
   "cell_type": "markdown",
   "metadata": {},
   "source": [
    "<div class=\"alert alert-block alert-success\"><span style=\"color:black\">\n",
    "    Let's get the best stacked ensemble and check what is the most important model in it \n",
    "</span></div>"
   ]
  },
  {
   "cell_type": "code",
   "execution_count": 23,
   "metadata": {},
   "outputs": [
    {
     "data": {
      "image/png": "[encoded data removed]",
      "text/plain": [
       "<Figure size 1008x720 with 1 Axes>"
      ]
     },
     "metadata": {
      "needs_background": "light"
     },
     "output_type": "display_data"
    }
   ],
   "source": [
    "# Get model ids for all models in the AutoML Leaderboard\n",
    "model_ids = list(aml.leaderboard['model_id'].as_data_frame().iloc[:,0])\n",
    "# Get the \"All Models\" Stacked Ensemble model\n",
    "se = h2o.get_model([mid for mid in model_ids if \"StackedEnsemble_AllModels\" in mid][0])\n",
    "# Get the Stacked Ensemble metalearner model\n",
    "metalearner = h2o.get_model(se.metalearner()['name'])\n",
    "%matplotlib inline\n",
    "metalearner.std_coef_plot()"
   ]
  },
  {
   "cell_type": "code",
   "execution_count": 24,
   "metadata": {},
   "outputs": [
    {
     "name": "stdout",
     "output_type": "stream",
     "text": [
      "\n",
      "ModelMetricsRegressionGLM: stackedensemble\n",
      "** Reported on test data. **\n",
      "\n",
      "MSE: 0.1795522095474\n",
      "RMSE: 0.4237360139844146\n",
      "MAE: 0.3091326186248081\n",
      "RMSLE: 0.05017877569133409\n",
      "R^2: 0.46922855284874554\n",
      "Mean Residual Deviance: 0.1795522095474\n",
      "Null degrees of freedom: 9945\n",
      "Residual degrees of freedom: 9937\n",
      "Null deviance: 3364.8269944658227\n",
      "Residual deviance: 1785.8262761584406\n",
      "AIC: 11165.366398561053\n"
     ]
    },
    {
     "data": {
      "text/plain": []
     },
     "execution_count": 24,
     "metadata": {},
     "output_type": "execute_result"
    }
   ],
   "source": [
    "#get model performance on test set\n",
    "%matplotlib inline\n",
    "aml.leader.model_performance(test_data=test)"
   ]
  },
  {
   "cell_type": "markdown",
   "metadata": {},
   "source": [
    "<div class=\"alert alert-block alert-success\"><span style=\"color:black\">\n",
    "     Make predictions on then test set, and compare them to the actual value\n",
    "</span></div>"
   ]
  },
  {
   "cell_type": "code",
   "execution_count": 25,
   "metadata": {},
   "outputs": [
    {
     "name": "stdout",
     "output_type": "stream",
     "text": [
      "stackedensemble prediction progress: |████████████████████████████████████| 100%\n"
     ]
    },
    {
     "data": {
      "text/html": [
       "<table>\n",
       "<thead>\n",
       "<tr><th style=\"text-align: right;\">  predict</th><th style=\"text-align: right;\">  ORIGINAL_INTEREST_RATE</th></tr>\n",
       "</thead>\n",
       "<tbody>\n",
       "<tr><td style=\"text-align: right;\">  6.91418</td><td style=\"text-align: right;\">                   7.5  </td></tr>\n",
       "<tr><td style=\"text-align: right;\">  7.08397</td><td style=\"text-align: right;\">                   6.625</td></tr>\n",
       "<tr><td style=\"text-align: right;\">  7.15397</td><td style=\"text-align: right;\">                   7    </td></tr>\n",
       "<tr><td style=\"text-align: right;\">  7.33515</td><td style=\"text-align: right;\">                   7.15 </td></tr>\n",
       "<tr><td style=\"text-align: right;\">  7.24323</td><td style=\"text-align: right;\">                   7    </td></tr>\n",
       "<tr><td style=\"text-align: right;\">  7.27838</td><td style=\"text-align: right;\">                   7.125</td></tr>\n",
       "<tr><td style=\"text-align: right;\">  6.95294</td><td style=\"text-align: right;\">                   8.75 </td></tr>\n",
       "<tr><td style=\"text-align: right;\">  6.85333</td><td style=\"text-align: right;\">                   6.5  </td></tr>\n",
       "<tr><td style=\"text-align: right;\">  7.02373</td><td style=\"text-align: right;\">                   7    </td></tr>\n",
       "<tr><td style=\"text-align: right;\">  7.18067</td><td style=\"text-align: right;\">                   7.25 </td></tr>\n",
       "</tbody>\n",
       "</table>"
      ]
     },
     "metadata": {},
     "output_type": "display_data"
    },
    {
     "data": {
      "text/plain": []
     },
     "execution_count": 25,
     "metadata": {},
     "output_type": "execute_result"
    }
   ],
   "source": [
    "pred = aml.predict(test)\n",
    "pred = pred.cbind(test['ORIGINAL_INTEREST_RATE'])\n",
    "pred"
   ]
  },
  {
   "cell_type": "code",
   "execution_count": 26,
   "metadata": {},
   "outputs": [
    {
     "name": "stdout",
     "output_type": "stream",
     "text": [
      "H2O session _sid_b8cc closed.\n"
     ]
    }
   ],
   "source": [
    "# Shutdown the H2O cluster\n",
    "h2o.cluster().shutdown()"
   ]
  }
 ],
 "metadata": {
  "kernelspec": {
   "display_name": "Python 3",
   "language": "python",
   "name": "python3"
  },
  "language_info": {
   "codemirror_mode": {
    "name": "ipython",
    "version": 3
   },
   "file_extension": ".py",
   "mimetype": "text/x-python",
   "name": "python",
   "nbconvert_exporter": "python",
   "pygments_lexer": "ipython3",
   "version": "3.6.8"
  }
 },
 "nbformat": 4,
 "nbformat_minor": 2
}
